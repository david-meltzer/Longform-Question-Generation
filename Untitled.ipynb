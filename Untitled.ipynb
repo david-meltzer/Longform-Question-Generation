{
 "cells": [
  {
   "cell_type": "code",
   "execution_count": null,
   "id": "16deca06-b48f-4911-b8b1-dd7e362f74d8",
   "metadata": {},
   "outputs": [],
   "source": [
    "!pip install praw\n",
    "import praw\n",
    "import pandas as pd\n",
    "import datetime"
   ]
  },
  {
   "cell_type": "code",
   "execution_count": 26,
   "id": "d8e583db-bfa4-45f4-8287-8867e92fb5e3",
   "metadata": {},
   "outputs": [],
   "source": [
    "reddit = praw.Reddit(\n",
    "    client_id=\"nTc7sWiUIbNKjFMAKwux9w\",\n",
    "    client_secret=\"Bh24IAjFN0pnGyILQNB8etgo54UZ3A\",\n",
    "    #password=\"rollingstone\",\n",
    "    user_agent=\"ask_scraper by u/eyeofthephysics\",\n",
    "    username=\"eyeofthephysics\",\n",
    ")"
   ]
  },
  {
   "cell_type": "code",
   "execution_count": 27,
   "id": "a20d8172-6f76-41ef-8495-6e9255cdf928",
   "metadata": {},
   "outputs": [
    {
     "name": "stdout",
     "output_type": "stream",
     "text": [
      "None\n"
     ]
    }
   ],
   "source": [
    "print(reddit.user.me())"
   ]
  },
  {
   "cell_type": "code",
   "execution_count": 28,
   "id": "378c4ffb-998d-4042-90fa-110346196857",
   "metadata": {},
   "outputs": [
    {
     "name": "stdout",
     "output_type": "stream",
     "text": [
      "AskScience Panel of Scientists XXVIII\n",
      "[META] Bots and AI tools on r/askscience\n",
      "Is it possible for so much land to erode away that the earth will only be left with oceans?\n",
      "Were the gas giants originally thought to be terrestrial like Earth? When were the gas giants known to be gaseous?\n",
      "Does nature ever select for mutations that then increase the chances of future mutations?\n",
      "How exactly is COPD coorelated to asthma and smoking?\n",
      "Why don't humans take preventative medicine for tick-borne illnesses like animals do?\n",
      "How are coelecanths today the same as coelecanths 400MYA, but humans 400MYA were bony fish?\n",
      "Why gravity decreases with depth?\n",
      "What are the names of the machines used to make recombinant vaccines?\n"
     ]
    }
   ],
   "source": [
    "for submission in reddit.subreddit(\"askscience\").hot(limit=10):\n",
    "    print(submission.title)"
   ]
  },
  {
   "cell_type": "code",
   "execution_count": 29,
   "id": "cef090b7-5dc3-4a6d-ae65-fbfa80c3b49f",
   "metadata": {},
   "outputs": [
    {
     "data": {
      "text/plain": [
       "True"
      ]
     },
     "execution_count": 29,
     "metadata": {},
     "output_type": "execute_result"
    }
   ],
   "source": [
    "reddit.read_only"
   ]
  },
  {
   "cell_type": "code",
   "execution_count": null,
   "id": "bc9a0ab4-d0b1-4070-903f-4fd7e5e92836",
   "metadata": {},
   "outputs": [],
   "source": []
  }
 ],
 "metadata": {
  "kernelspec": {
   "display_name": "Python 3 (ipykernel)",
   "language": "python",
   "name": "python3"
  },
  "language_info": {
   "codemirror_mode": {
    "name": "ipython",
    "version": 3
   },
   "file_extension": ".py",
   "mimetype": "text/x-python",
   "name": "python",
   "nbconvert_exporter": "python",
   "pygments_lexer": "ipython3",
   "version": "3.9.13"
  }
 },
 "nbformat": 4,
 "nbformat_minor": 5
}
